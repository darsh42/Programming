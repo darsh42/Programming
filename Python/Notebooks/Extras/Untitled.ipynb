{
 "cells": [
  {
   "cell_type": "code",
   "execution_count": 1,
   "id": "6a75db80",
   "metadata": {},
   "outputs": [],
   "source": [
    "import sympy as sym"
   ]
  },
  {
   "cell_type": "code",
   "execution_count": 6,
   "id": "de6dfc85",
   "metadata": {},
   "outputs": [
    {
     "data": {
      "text/latex": [
       "$\\displaystyle 4 a^{3} - 6 a^{2} + 2 a - 27$"
      ],
      "text/plain": [
       "4*a**3 - 6*a**2 + 2*a - 27"
      ]
     },
     "execution_count": 6,
     "metadata": {},
     "output_type": "execute_result"
    }
   ],
   "source": [
    "a = sym.Symbol(\"a\")\n",
    "\n",
    "A = sym.Matrix([[a, 3, 1], [a, 2 * a, 3], [-3, 2, 2 * a]])\n",
    "\n",
    "det_A = A.det()\n",
    "det_A"
   ]
  },
  {
   "cell_type": "code",
   "execution_count": 14,
   "id": "8a784b20",
   "metadata": {},
   "outputs": [
    {
     "data": {
      "text/latex": [
       "$\\displaystyle \\left\\{\\frac{1}{12 \\sqrt[3]{\\frac{\\sqrt{59046}}{72} + \\frac{27}{8}}} + \\frac{1}{2} + \\sqrt[3]{\\frac{\\sqrt{59046}}{72} + \\frac{27}{8}}\\right\\}$"
      ],
      "text/plain": [
       "{1/(12*(sqrt(59046)/72 + 27/8)**(1/3)) + 1/2 + (sqrt(59046)/72 + 27/8)**(1/3)}"
      ]
     },
     "execution_count": 14,
     "metadata": {},
     "output_type": "execute_result"
    }
   ],
   "source": [
    "sym.solveset(sym.Eq(det_A, 0), a, domain=sym.Reals)"
   ]
  },
  {
   "cell_type": "code",
   "execution_count": null,
   "id": "d27d91c9",
   "metadata": {},
   "outputs": [],
   "source": []
  }
 ],
 "metadata": {
  "kernelspec": {
   "display_name": "Python 3 (ipykernel)",
   "language": "python",
   "name": "python3"
  },
  "language_info": {
   "codemirror_mode": {
    "name": "ipython",
    "version": 3
   },
   "file_extension": ".py",
   "mimetype": "text/x-python",
   "name": "python",
   "nbconvert_exporter": "python",
   "pygments_lexer": "ipython3",
   "version": "3.10.6"
  }
 },
 "nbformat": 4,
 "nbformat_minor": 5
}
